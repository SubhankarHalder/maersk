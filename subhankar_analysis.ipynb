{
 "cells": [
  {
   "attachments": {},
   "cell_type": "markdown",
   "metadata": {},
   "source": [
    "# Maersk ML Assignment Challenge\n",
    "\n",
    "In this challenge we are given a time-series dataset and we are asked to come up with ML models to predict the \"Sourcing Cost\" for various entries of products. We have been given an xlsx file containing the instructions for the task, the training set and the test set.\n"
   ]
  },
  {
   "attachments": {},
   "cell_type": "markdown",
   "metadata": {},
   "source": [
    "# Solution Summary\n",
    "\n",
    "The solution to the challenge is divided into the following sections:\n",
    "- Data Preprocessing: Since the dataset was in the xlsx format, the dataset was converted to csv format for both the training and test set.\n",
    "- Exploratory Data Analysis: The training set was explored to get a better understanding of the dataset. Following analysis was conducted to know more about the dataset:\n",
    "    - Basic Exploration: The rows and columns of the dataset were explored. It was noted that there were no null values in the dataset.\n",
    "    - Data Distribution: An analysis was conducted to evaluate how many unique values were present in each column.\n",
    "    - Exploring 'Sourcing Cost' (the target variable) Column: It was noted that the 'Sourcing Cost' column had negative values in the training dataset.\n",
    "    - Temporal Analysis of Mean Training Sourcing Cost: The Mean Training Sourcing Cost was highest in the month of March and lowest in the month of November,\n",
    "- Data Cleaning: This involved the following steps:\n",
    "    - Exploration of Negative Values in 'Sourcing Cost' Column: The unique combinations of the first six dataset columns that had negative 'Sourcing Cost' was extracted and the distribution was plotted.\n",
    "    - Imputation of Negative Values in 'Sourcing Cost' Column: The negative values in the 'Sourcing Cost' column were imputed using the mean of the positive 'Sourcing Cost' values for the unique combinations mentioned above.\n",
    "- Feature Engineering: The following steps were performed on both the train and the test set:\n",
    "    - Feature Extraction: The 'Date' column was split into 'Year', 'Month' and 'Day' columns.\n",
    "    - Feature Encoding: The categorical columns were encoded using the LabelEncoder.\n",
    "    - Metric: Mean Squared Error was used as the metric to evaluate the models.\n",
    "    - Time Series Split: The Time Series Split was used to split the training set into training and validation set.\n",
    "    - Cross Validation: The training set was split into 5 folds for cross validation.\n",
    "- Model Training and Evaluation: The following ML models were trained and evaluated on the MSE metric:\n",
    "    - GradientBoostingRegressor\n",
    "    - XGBoost Regressor\n",
    "    - LightGBM Regressor\n",
    "- It was found that XGBoost Regressor Model performed the best on the test set.\n"
   ]
  },
  {
   "attachments": {},
   "cell_type": "markdown",
   "metadata": {},
   "source": [
    "# Data Preprocessing\n",
    "\n",
    "The data preprocessing step involves the following steps:\n",
    "- Downloading the xlsx file\n",
    "- Reading the xlsx file using pandas\n",
    "- Saving the training part of the xlsx sheet as a csv file with filename train.csv\n",
    "- Saving the test part of the xlsx sheet as a csv file with filename test.csv"
   ]
  },
  {
   "cell_type": "code",
   "execution_count": 1,
   "metadata": {},
   "outputs": [],
   "source": [
    "import pandas as pd\n",
    "from matplotlib import pyplot as plt\n",
    "import seaborn as sns\n"
   ]
  },
  {
   "cell_type": "code",
   "execution_count": 2,
   "metadata": {},
   "outputs": [],
   "source": [
    "training_data = pd.read_excel('forecast.xlsx', sheet_name='Training Dataset')\n",
    "training_data.to_csv('train.csv', index=False)\n",
    "test_data = pd.read_excel('forecast.xlsx', sheet_name='Test Dataset')\n",
    "test_data.to_csv('test.csv', index=False)"
   ]
  },
  {
   "attachments": {},
   "cell_type": "markdown",
   "metadata": {},
   "source": [
    "# Exploratory Data Analysis"
   ]
  },
  {
   "attachments": {},
   "cell_type": "markdown",
   "metadata": {},
   "source": [
    "## Basic Exploration"
   ]
  },
  {
   "cell_type": "code",
   "execution_count": 3,
   "metadata": {},
   "outputs": [
    {
     "data": {
      "text/html": [
       "<div>\n",
       "<style scoped>\n",
       "    .dataframe tbody tr th:only-of-type {\n",
       "        vertical-align: middle;\n",
       "    }\n",
       "\n",
       "    .dataframe tbody tr th {\n",
       "        vertical-align: top;\n",
       "    }\n",
       "\n",
       "    .dataframe thead th {\n",
       "        text-align: right;\n",
       "    }\n",
       "</style>\n",
       "<table border=\"1\" class=\"dataframe\">\n",
       "  <thead>\n",
       "    <tr style=\"text-align: right;\">\n",
       "      <th></th>\n",
       "      <th>ProductType</th>\n",
       "      <th>Manufacturer</th>\n",
       "      <th>Area Code</th>\n",
       "      <th>Sourcing Channel</th>\n",
       "      <th>Product Size</th>\n",
       "      <th>Product Type</th>\n",
       "      <th>Month of Sourcing</th>\n",
       "      <th>Sourcing Cost</th>\n",
       "    </tr>\n",
       "  </thead>\n",
       "  <tbody>\n",
       "    <tr>\n",
       "      <th>0</th>\n",
       "      <td>NTM3</td>\n",
       "      <td>X1</td>\n",
       "      <td>A28</td>\n",
       "      <td>WHOLESALE</td>\n",
       "      <td>Large</td>\n",
       "      <td>Powder</td>\n",
       "      <td>2021-05-01</td>\n",
       "      <td>10.158</td>\n",
       "    </tr>\n",
       "    <tr>\n",
       "      <th>1</th>\n",
       "      <td>NTM2</td>\n",
       "      <td>X1</td>\n",
       "      <td>A9</td>\n",
       "      <td>DIRECT</td>\n",
       "      <td>Large</td>\n",
       "      <td>Powder</td>\n",
       "      <td>2020-10-01</td>\n",
       "      <td>134.281</td>\n",
       "    </tr>\n",
       "    <tr>\n",
       "      <th>2</th>\n",
       "      <td>NTM3</td>\n",
       "      <td>X2</td>\n",
       "      <td>A20</td>\n",
       "      <td>DIRECT</td>\n",
       "      <td>Large</td>\n",
       "      <td>Powder</td>\n",
       "      <td>2020-12-01</td>\n",
       "      <td>12.456</td>\n",
       "    </tr>\n",
       "    <tr>\n",
       "      <th>3</th>\n",
       "      <td>NTM3</td>\n",
       "      <td>X1</td>\n",
       "      <td>A18</td>\n",
       "      <td>WHOLESALE</td>\n",
       "      <td>Small</td>\n",
       "      <td>Powder</td>\n",
       "      <td>2021-02-01</td>\n",
       "      <td>107.220</td>\n",
       "    </tr>\n",
       "    <tr>\n",
       "      <th>4</th>\n",
       "      <td>NTM2</td>\n",
       "      <td>X1</td>\n",
       "      <td>A28</td>\n",
       "      <td>DIRECT</td>\n",
       "      <td>Large</td>\n",
       "      <td>Liquid</td>\n",
       "      <td>2020-11-01</td>\n",
       "      <td>197.763</td>\n",
       "    </tr>\n",
       "  </tbody>\n",
       "</table>\n",
       "</div>"
      ],
      "text/plain": [
       "  ProductType Manufacturer Area Code Sourcing Channel Product Size  \\\n",
       "0        NTM3           X1       A28        WHOLESALE        Large   \n",
       "1        NTM2           X1        A9           DIRECT        Large   \n",
       "2        NTM3           X2       A20           DIRECT        Large   \n",
       "3        NTM3           X1       A18        WHOLESALE        Small   \n",
       "4        NTM2           X1       A28           DIRECT        Large   \n",
       "\n",
       "  Product Type Month of Sourcing  Sourcing Cost  \n",
       "0       Powder        2021-05-01         10.158  \n",
       "1       Powder        2020-10-01        134.281  \n",
       "2       Powder        2020-12-01         12.456  \n",
       "3       Powder        2021-02-01        107.220  \n",
       "4       Liquid        2020-11-01        197.763  "
      ]
     },
     "execution_count": 3,
     "metadata": {},
     "output_type": "execute_result"
    }
   ],
   "source": [
    "train_df = pd.read_csv('train.csv')\n",
    "train_df.head()"
   ]
  },
  {
   "cell_type": "code",
   "execution_count": 4,
   "metadata": {},
   "outputs": [
    {
     "data": {
      "text/plain": [
       "Index(['ProductType', 'Manufacturer', 'Area Code', 'Sourcing Channel',\n",
       "       'Product Size', 'Product Type', 'Month of Sourcing', 'Sourcing Cost'],\n",
       "      dtype='object')"
      ]
     },
     "execution_count": 4,
     "metadata": {},
     "output_type": "execute_result"
    }
   ],
   "source": [
    "train_df.columns"
   ]
  },
  {
   "cell_type": "code",
   "execution_count": 5,
   "metadata": {},
   "outputs": [
    {
     "data": {
      "text/plain": [
       "550176"
      ]
     },
     "execution_count": 5,
     "metadata": {},
     "output_type": "execute_result"
    }
   ],
   "source": [
    "len(train_df)"
   ]
  },
  {
   "cell_type": "code",
   "execution_count": 6,
   "metadata": {},
   "outputs": [
    {
     "data": {
      "text/plain": [
       "ProductType          0\n",
       "Manufacturer         0\n",
       "Area Code            0\n",
       "Sourcing Channel     0\n",
       "Product Size         0\n",
       "Product Type         0\n",
       "Month of Sourcing    0\n",
       "Sourcing Cost        0\n",
       "dtype: int64"
      ]
     },
     "execution_count": 6,
     "metadata": {},
     "output_type": "execute_result"
    }
   ],
   "source": [
    "train_df.isna().sum()"
   ]
  },
  {
   "cell_type": "code",
   "execution_count": 7,
   "metadata": {},
   "outputs": [
    {
     "data": {
      "text/html": [
       "<div>\n",
       "<style scoped>\n",
       "    .dataframe tbody tr th:only-of-type {\n",
       "        vertical-align: middle;\n",
       "    }\n",
       "\n",
       "    .dataframe tbody tr th {\n",
       "        vertical-align: top;\n",
       "    }\n",
       "\n",
       "    .dataframe thead th {\n",
       "        text-align: right;\n",
       "    }\n",
       "</style>\n",
       "<table border=\"1\" class=\"dataframe\">\n",
       "  <thead>\n",
       "    <tr style=\"text-align: right;\">\n",
       "      <th></th>\n",
       "      <th>ProductType</th>\n",
       "      <th>Manufacturer</th>\n",
       "      <th>Area Code</th>\n",
       "      <th>Sourcing Channel</th>\n",
       "      <th>Product Size</th>\n",
       "      <th>Product Type</th>\n",
       "      <th>Month of Sourcing</th>\n",
       "      <th>Sourcing Cost</th>\n",
       "    </tr>\n",
       "  </thead>\n",
       "  <tbody>\n",
       "    <tr>\n",
       "      <th>0</th>\n",
       "      <td>NTM1</td>\n",
       "      <td>X1</td>\n",
       "      <td>A1</td>\n",
       "      <td>DIRECT</td>\n",
       "      <td>Small</td>\n",
       "      <td>Powder</td>\n",
       "      <td>2021-06-21</td>\n",
       "      <td>103.68</td>\n",
       "    </tr>\n",
       "    <tr>\n",
       "      <th>1</th>\n",
       "      <td>NTM1</td>\n",
       "      <td>X1</td>\n",
       "      <td>A10</td>\n",
       "      <td>DIRECT</td>\n",
       "      <td>Large</td>\n",
       "      <td>Powder</td>\n",
       "      <td>2021-06-21</td>\n",
       "      <td>155.75</td>\n",
       "    </tr>\n",
       "    <tr>\n",
       "      <th>2</th>\n",
       "      <td>NTM1</td>\n",
       "      <td>X1</td>\n",
       "      <td>A10</td>\n",
       "      <td>ECOM</td>\n",
       "      <td>Large</td>\n",
       "      <td>Powder</td>\n",
       "      <td>2021-06-21</td>\n",
       "      <td>143.02</td>\n",
       "    </tr>\n",
       "    <tr>\n",
       "      <th>3</th>\n",
       "      <td>NTM1</td>\n",
       "      <td>X1</td>\n",
       "      <td>A11</td>\n",
       "      <td>DIRECT</td>\n",
       "      <td>Large</td>\n",
       "      <td>Powder</td>\n",
       "      <td>2021-06-21</td>\n",
       "      <td>139.39</td>\n",
       "    </tr>\n",
       "    <tr>\n",
       "      <th>4</th>\n",
       "      <td>NTM1</td>\n",
       "      <td>X1</td>\n",
       "      <td>A2</td>\n",
       "      <td>DIRECT</td>\n",
       "      <td>Large</td>\n",
       "      <td>Powder</td>\n",
       "      <td>2021-06-21</td>\n",
       "      <td>169.42</td>\n",
       "    </tr>\n",
       "  </tbody>\n",
       "</table>\n",
       "</div>"
      ],
      "text/plain": [
       "  ProductType Manufacturer Area Code Sourcing Channel Product Size  \\\n",
       "0        NTM1           X1        A1           DIRECT        Small   \n",
       "1        NTM1           X1       A10           DIRECT        Large   \n",
       "2        NTM1           X1       A10             ECOM        Large   \n",
       "3        NTM1           X1       A11           DIRECT        Large   \n",
       "4        NTM1           X1        A2           DIRECT        Large   \n",
       "\n",
       "  Product Type Month of Sourcing  Sourcing Cost  \n",
       "0       Powder        2021-06-21         103.68  \n",
       "1       Powder        2021-06-21         155.75  \n",
       "2       Powder        2021-06-21         143.02  \n",
       "3       Powder        2021-06-21         139.39  \n",
       "4       Powder        2021-06-21         169.42  "
      ]
     },
     "execution_count": 7,
     "metadata": {},
     "output_type": "execute_result"
    }
   ],
   "source": [
    "test_df = pd.read_csv('test.csv')\n",
    "test_df.head()"
   ]
  },
  {
   "cell_type": "code",
   "execution_count": 8,
   "metadata": {},
   "outputs": [
    {
     "data": {
      "text/plain": [
       "Index(['ProductType', 'Manufacturer', 'Area Code', 'Sourcing Channel',\n",
       "       'Product Size', 'Product Type', 'Month of Sourcing', 'Sourcing Cost'],\n",
       "      dtype='object')"
      ]
     },
     "execution_count": 8,
     "metadata": {},
     "output_type": "execute_result"
    }
   ],
   "source": [
    "test_df.columns"
   ]
  },
  {
   "cell_type": "code",
   "execution_count": 9,
   "metadata": {},
   "outputs": [
    {
     "data": {
      "text/plain": [
       "96"
      ]
     },
     "execution_count": 9,
     "metadata": {},
     "output_type": "execute_result"
    }
   ],
   "source": [
    "len(test_df)"
   ]
  },
  {
   "cell_type": "code",
   "execution_count": 10,
   "metadata": {},
   "outputs": [
    {
     "data": {
      "text/plain": [
       "ProductType          0\n",
       "Manufacturer         0\n",
       "Area Code            0\n",
       "Sourcing Channel     0\n",
       "Product Size         0\n",
       "Product Type         0\n",
       "Month of Sourcing    0\n",
       "Sourcing Cost        0\n",
       "dtype: int64"
      ]
     },
     "execution_count": 10,
     "metadata": {},
     "output_type": "execute_result"
    }
   ],
   "source": [
    "test_df.isna().sum()"
   ]
  },
  {
   "attachments": {},
   "cell_type": "markdown",
   "metadata": {},
   "source": [
    "We observe that:\n",
    "- The training set has 5,55,176 rows and 8 columns\n",
    "- These columns are named as follows:\n",
    "    - `ProductType`\n",
    "    - `Manufacturer`\n",
    "    - `Area Code`\n",
    "    - `Sourcing Channel`\n",
    "    - `Product Size`\n",
    "    - `Product Type`\n",
    "    - `Month of Sourcing`\n",
    "    - `Sourcing Cost`\n",
    "- There are no null values in the training set\n",
    "- The test set has 96 rows and 8 columns\n",
    "- The columns are the same as those in the training set\n",
    "- There are no null values in the test set"
   ]
  },
  {
   "attachments": {},
   "cell_type": "markdown",
   "metadata": {},
   "source": [
    "## Data Distribution"
   ]
  },
  {
   "cell_type": "code",
   "execution_count": 11,
   "metadata": {},
   "outputs": [],
   "source": [
    "eight_cols_list = ['ProductType', 'Manufacturer', 'Area Code', 'Sourcing Channel', 'Product Size', 'Product Type', 'Month of Sourcing', 'Sourcing Cost']\n"
   ]
  },
  {
   "cell_type": "code",
   "execution_count": 12,
   "metadata": {},
   "outputs": [
    {
     "name": "stdout",
     "output_type": "stream",
     "text": [
      "For the training set, ProductType has 3 unique values\n",
      "These unique values are ['NTM3' 'NTM2' 'NTM1']\n",
      "For the training set, Manufacturer has 3 unique values\n",
      "These unique values are ['X1' 'X2' 'X3']\n",
      "For the training set, Area Code has 45 unique values\n",
      "These unique values are ['A28' 'A9' 'A20' 'A18' 'A10' 'A19' 'A29' 'A7' 'A2' 'A8' 'A4' 'A6' 'A30'\n",
      " 'A35' 'A44' 'A45' 'A31' 'A25' 'A37' 'A32' 'A34' 'A46' 'A11' 'A39' 'A41'\n",
      " 'A17' 'A38' 'A5' 'A22' 'A3' 'A12' 'A24' 'A36' 'A42' 'A14' 'A43' 'A33'\n",
      " 'A15' 'A40' 'A21' 'A16' 'A13' 'A1' 'A23' 'A26']\n",
      "For the training set, Sourcing Channel has 4 unique values\n",
      "These unique values are ['WHOLESALE' 'DIRECT' 'RETAIL' 'ECOM']\n",
      "For the training set, Product Size has 3 unique values\n",
      "These unique values are ['Large' 'Small' 'ExtraLarge']\n",
      "For the training set, Product Type has 2 unique values\n",
      "These unique values are ['Powder' 'Liquid']\n",
      "For the training set, Month of Sourcing has 11 unique values\n",
      "These unique values are ['2021-05-01' '2020-10-01' '2020-12-01' '2021-02-01' '2020-11-01'\n",
      " '2020-09-01' '2021-03-01' '2021-01-01' '2021-04-01' '2020-07-01'\n",
      " '2020-08-01']\n",
      "For the training set, Sourcing Cost has 6687 unique values\n",
      "These unique values are [1.015800e+01 1.342810e+02 1.245600e+01 ... 1.338500e+02 1.263047e+04\n",
      " 3.705000e+03]\n"
     ]
    }
   ],
   "source": [
    "# Train Set\n",
    "for col in eight_cols_list:\n",
    "    print(f\"For the training set, {col} has {train_df[col].nunique()} unique values\")\n",
    "    print(f\"These unique values are {train_df[col].unique()}\")\n"
   ]
  },
  {
   "cell_type": "code",
   "execution_count": 13,
   "metadata": {},
   "outputs": [
    {
     "name": "stdout",
     "output_type": "stream",
     "text": [
      "For the test set, ProductType has 3 unique values\n",
      "These unique values are ['NTM1' 'NTM2' 'NTM3']\n",
      "For the test set, Manufacturer has 3 unique values\n",
      "These unique values are ['X1' 'X2' 'X3']\n",
      "For the test set, Area Code has 45 unique values\n",
      "These unique values are ['A1' 'A10' 'A11' 'A2' 'A28' 'A29' 'A3' 'A33' 'A34' 'A4' 'A6' 'A7' 'A8'\n",
      " 'A9' 'A12' 'A21' 'A30' 'A31' 'A39' 'A40' 'A42' 'A43' 'A44' 'A45' 'A46'\n",
      " 'A16' 'A17' 'A19' 'A23' 'A26' 'A32' 'A36' 'A37' 'A38' 'A41' 'A5' 'A25'\n",
      " 'A13' 'A14' 'A15' 'A18' 'A24' 'A35' 'A20' 'A22']\n",
      "For the test set, Sourcing Channel has 4 unique values\n",
      "These unique values are ['DIRECT' 'ECOM' 'RETAIL' 'WHOLESALE']\n",
      "For the test set, Product Size has 3 unique values\n",
      "These unique values are ['Small' 'Large' 'ExtraLarge']\n",
      "For the test set, Product Type has 2 unique values\n",
      "These unique values are ['Powder' 'Liquid']\n",
      "For the test set, Month of Sourcing has 1 unique values\n",
      "These unique values are ['2021-06-21']\n",
      "For the test set, Sourcing Cost has 95 unique values\n",
      "These unique values are [103.68 155.75 143.02 139.39 169.42 169.15  47.99  56.52 125.51 157.27\n",
      " 151.02 133.83  95.   140.4  135.4  116.25 171.26 141.14 141.32 145.84\n",
      " 147.54 140.34 144.45  13.98  78.05  22.22  54.47  31.44  22.62 234.71\n",
      " 179.4  168.73  14.01  25.46  70.   144.89 155.08 140.03 143.08 132.6\n",
      "  60.53  59.75 170.71 171.75 167.43  38.66 223.78 189.59  97.74  63.12\n",
      "  59.82 147.4   71.39 102.73  96.39  24.05  49.96  57.04  63.53 140.31\n",
      " 129.2  144.99 145.42 140.55 139.91 133.44 139.09 149.23 147.59 151.75\n",
      " 143.34 118.24  52.5    4.14  26.12  59.4  126.28 112.1   68.12  72.82\n",
      "  74.59 157.96 106.3   87.52 123.4   59.05  27.98  84.48  55.81  42.8\n",
      "  89.57 114.57 111.26  32.32  40.73]\n"
     ]
    }
   ],
   "source": [
    "# Test Set\n",
    "for col in eight_cols_list:\n",
    "    print(f\"For the test set, {col} has {test_df[col].nunique()} unique values\")\n",
    "    print(f\"These unique values are {test_df[col].unique()}\")"
   ]
  },
  {
   "cell_type": "code",
   "execution_count": 14,
   "metadata": {},
   "outputs": [
    {
     "name": "stdout",
     "output_type": "stream",
     "text": [
      "The unique values in ProductType in the train set are also in the test set\n",
      "The unique values in Manufacturer in the train set are also in the test set\n",
      "The unique values in Area Code in the train set are also in the test set\n",
      "The unique values in Sourcing Channel in the train set are also in the test set\n",
      "The unique values in Product Size in the train set are also in the test set\n",
      "The unique values in Product Type in the train set are also in the test set\n"
     ]
    }
   ],
   "source": [
    "# Check if unqiue values in train set are in test set for the first 6 columns\n",
    "six_cols_list = ['ProductType', 'Manufacturer', 'Area Code', 'Sourcing Channel', 'Product Size', 'Product Type']\n",
    "for col in six_cols_list:\n",
    "    if set(train_df[col].unique()).issubset(set(test_df[col].unique())):\n",
    "        print(f\"The unique values in {col} in the train set are also in the test set\")"
   ]
  },
  {
   "cell_type": "code",
   "execution_count": 15,
   "metadata": {},
   "outputs": [
    {
     "data": {
      "text/plain": [
       "543489"
      ]
     },
     "execution_count": 15,
     "metadata": {},
     "output_type": "execute_result"
    }
   ],
   "source": [
    "# Check how many duplicates are there in the Sourcing Cost column in the training set\n",
    "train_df['Sourcing Cost'].duplicated().sum()"
   ]
  },
  {
   "attachments": {},
   "cell_type": "markdown",
   "metadata": {},
   "source": [
    "We observe that:\n",
    "- For the first six columns, the number of unique values in the train set are in the test set\n",
    "- The Souring Cost in the training set has 6687 unique values with 543489 entries duplicated"
   ]
  },
  {
   "attachments": {},
   "cell_type": "markdown",
   "metadata": {},
   "source": [
    "## Exploring the Target Variable: Sourcing Cost"
   ]
  },
  {
   "cell_type": "code",
   "execution_count": 16,
   "metadata": {},
   "outputs": [],
   "source": [
    "sourcing_cost_column = 'Sourcing Cost'"
   ]
  },
  {
   "cell_type": "code",
   "execution_count": 17,
   "metadata": {},
   "outputs": [
    {
     "name": "stdout",
     "output_type": "stream",
     "text": [
      "Summary Statistics for 'Sourcing Cost' Training Data:\n",
      "count    550176.000000\n",
      "mean        108.816793\n",
      "std         104.390097\n",
      "min        -196.070000\n",
      "25%          57.000000\n",
      "50%         132.000000\n",
      "75%         146.147000\n",
      "max       32632.500000\n",
      "Name: Sourcing Cost, dtype: float64\n"
     ]
    }
   ],
   "source": [
    "summary_stats = train_df[sourcing_cost_column].describe()\n",
    "print(\"Summary Statistics for 'Sourcing Cost' Training Data:\")\n",
    "print(summary_stats)"
   ]
  },
  {
   "cell_type": "code",
   "execution_count": 18,
   "metadata": {},
   "outputs": [
    {
     "name": "stdout",
     "output_type": "stream",
     "text": [
      "Summary Statistics for 'Sourcing Cost' Test Data:\n",
      "count     96.000000\n",
      "mean     106.208021\n",
      "std       52.359484\n",
      "min        4.140000\n",
      "25%       59.662500\n",
      "50%      117.245000\n",
      "75%      144.915000\n",
      "max      234.710000\n",
      "Name: Sourcing Cost, dtype: float64\n"
     ]
    }
   ],
   "source": [
    "summary_stats = test_df[sourcing_cost_column].describe()\n",
    "print(\"Summary Statistics for 'Sourcing Cost' Test Data:\")\n",
    "print(summary_stats)"
   ]
  },
  {
   "cell_type": "code",
   "execution_count": 19,
   "metadata": {},
   "outputs": [
    {
     "data": {
      "image/png": "[encoded data removed]",
      "text/plain": [
       "<Figure size 1000x600 with 1 Axes>"
      ]
     },
     "metadata": {},
     "output_type": "display_data"
    }
   ],
   "source": [
    "plt.figure(figsize=(10, 6))\n",
    "sns.histplot(train_df[sourcing_cost_column], bins=10, kde=True)\n",
    "plt.title(f'Distribution of {sourcing_cost_column} Training Set')\n",
    "plt.xlabel(sourcing_cost_column)\n",
    "plt.ylabel('Frequency')\n",
    "plt.show()"
   ]
  },
  {
   "attachments": {},
   "cell_type": "markdown",
   "metadata": {},
   "source": [
    "We observe that:\n",
    "- There are negative values in the Training Sourcing Cost column\n",
    "- The mean of the Train Sourcing Cost is 108 but the maximum is 32632\n",
    "- There are no negative values in the Test Sourcing Cost column"
   ]
  },
  {
   "attachments": {},
   "cell_type": "markdown",
   "metadata": {},
   "source": [
    "## Temporal Analysis of Mean Training Sourcing Cost over the Months"
   ]
  },
  {
   "cell_type": "code",
   "execution_count": 20,
   "metadata": {},
   "outputs": [
    {
     "data": {
      "image/png": "[encoded data removed]",
      "text/plain": [
       "<Figure size 1200x600 with 1 Axes>"
      ]
     },
     "metadata": {},
     "output_type": "display_data"
    }
   ],
   "source": [
    "train_df['Month of Sourcing'] = pd.to_datetime(train_df['Month of Sourcing'])\n",
    "\n",
    "train_df['Sourcing Month'] = train_df['Month of Sourcing'].dt.month\n",
    "train_df['Sourcing Day'] = train_df['Month of Sourcing'].dt.day\n",
    "train_df['Sourcing Year'] = train_df['Month of Sourcing'].dt.year\n",
    "\n",
    "monthly_sourcing = train_df.groupby('Sourcing Month')[sourcing_cost_column].mean()\n",
    "plt.figure(figsize=(12, 6))\n",
    "monthly_sourcing.plot(marker='o')\n",
    "plt.title('Temporal Analysis of Mean Training Sourcing Cost Over Months')\n",
    "plt.xlabel('Sourcing Month')\n",
    "plt.ylabel('Mean Sourcing Cost')\n",
    "plt.grid(True)\n",
    "plt.show()\n"
   ]
  },
  {
   "attachments": {},
   "cell_type": "markdown",
   "metadata": {},
   "source": [
    "We observe that:\n",
    "- The Sourcing Cost is highest in the month of March\n",
    "- The Sourcing Cost is lowest in the month of November"
   ]
  },
  {
   "attachments": {},
   "cell_type": "markdown",
   "metadata": {},
   "source": [
    "## Exploration of Negative Values in the Training Sourcing Cost Column"
   ]
  },
  {
   "attachments": {},
   "cell_type": "markdown",
   "metadata": {},
   "source": [
    "We evaluate the unique combinations of the first six columns for which the Sourcing Cost is negative."
   ]
  },
  {
   "cell_type": "code",
   "execution_count": 21,
   "metadata": {},
   "outputs": [
    {
     "data": {
      "text/html": [
       "<div>\n",
       "<style scoped>\n",
       "    .dataframe tbody tr th:only-of-type {\n",
       "        vertical-align: middle;\n",
       "    }\n",
       "\n",
       "    .dataframe tbody tr th {\n",
       "        vertical-align: top;\n",
       "    }\n",
       "\n",
       "    .dataframe thead th {\n",
       "        text-align: right;\n",
       "    }\n",
       "</style>\n",
       "<table border=\"1\" class=\"dataframe\">\n",
       "  <thead>\n",
       "    <tr style=\"text-align: right;\">\n",
       "      <th></th>\n",
       "      <th>ProductType</th>\n",
       "      <th>Manufacturer</th>\n",
       "      <th>Area Code</th>\n",
       "      <th>Sourcing Channel</th>\n",
       "      <th>Product Size</th>\n",
       "      <th>Product Type</th>\n",
       "      <th>Sourcing Cost</th>\n",
       "      <th>Has Negative Cost</th>\n",
       "    </tr>\n",
       "  </thead>\n",
       "  <tbody>\n",
       "    <tr>\n",
       "      <th>26</th>\n",
       "      <td>NTM1</td>\n",
       "      <td>X2</td>\n",
       "      <td>A31</td>\n",
       "      <td>DIRECT</td>\n",
       "      <td>Large</td>\n",
       "      <td>Liquid</td>\n",
       "      <td>[0.0, -0.0010000000000116, -0.0009999999999994...</td>\n",
       "      <td>True</td>\n",
       "    </tr>\n",
       "    <tr>\n",
       "      <th>32</th>\n",
       "      <td>NTM1</td>\n",
       "      <td>X2</td>\n",
       "      <td>A44</td>\n",
       "      <td>DIRECT</td>\n",
       "      <td>Large</td>\n",
       "      <td>Liquid</td>\n",
       "      <td>[29.257, 0.0, 21.559, 11.649, 133.122, 10.016,...</td>\n",
       "      <td>True</td>\n",
       "    </tr>\n",
       "    <tr>\n",
       "      <th>39</th>\n",
       "      <td>NTM2</td>\n",
       "      <td>X1</td>\n",
       "      <td>A16</td>\n",
       "      <td>DIRECT</td>\n",
       "      <td>Small</td>\n",
       "      <td>Powder</td>\n",
       "      <td>[224.175, 98.37, 96.161, 97.089, 96.839, 104.1...</td>\n",
       "      <td>True</td>\n",
       "    </tr>\n",
       "    <tr>\n",
       "      <th>41</th>\n",
       "      <td>NTM2</td>\n",
       "      <td>X1</td>\n",
       "      <td>A19</td>\n",
       "      <td>DIRECT</td>\n",
       "      <td>Large</td>\n",
       "      <td>Powder</td>\n",
       "      <td>[105.589, 109.492, 105.589, 179.003, 108.599, ...</td>\n",
       "      <td>True</td>\n",
       "    </tr>\n",
       "    <tr>\n",
       "      <th>53</th>\n",
       "      <td>NTM2</td>\n",
       "      <td>X1</td>\n",
       "      <td>A32</td>\n",
       "      <td>RETAIL</td>\n",
       "      <td>Small</td>\n",
       "      <td>Powder</td>\n",
       "      <td>[127.68, 64.761, 65.405, -3.0253577421035504e-...</td>\n",
       "      <td>True</td>\n",
       "    </tr>\n",
       "    <tr>\n",
       "      <th>54</th>\n",
       "      <td>NTM2</td>\n",
       "      <td>X1</td>\n",
       "      <td>A36</td>\n",
       "      <td>DIRECT</td>\n",
       "      <td>Small</td>\n",
       "      <td>Powder</td>\n",
       "      <td>[186.62, 162.278, 186.62, 186.62, 186.62, 186....</td>\n",
       "      <td>True</td>\n",
       "    </tr>\n",
       "    <tr>\n",
       "      <th>57</th>\n",
       "      <td>NTM2</td>\n",
       "      <td>X1</td>\n",
       "      <td>A38</td>\n",
       "      <td>DIRECT</td>\n",
       "      <td>Small</td>\n",
       "      <td>Powder</td>\n",
       "      <td>[169.231, 200.0, 200.0, 200.0, 201.49, 201.491...</td>\n",
       "      <td>True</td>\n",
       "    </tr>\n",
       "    <tr>\n",
       "      <th>72</th>\n",
       "      <td>NTM2</td>\n",
       "      <td>X2</td>\n",
       "      <td>A25</td>\n",
       "      <td>DIRECT</td>\n",
       "      <td>Small</td>\n",
       "      <td>Powder</td>\n",
       "      <td>[6.773, 6.773, 64.324, 7.683, 64.33, 128.709, ...</td>\n",
       "      <td>True</td>\n",
       "    </tr>\n",
       "    <tr>\n",
       "      <th>73</th>\n",
       "      <td>NTM2</td>\n",
       "      <td>X2</td>\n",
       "      <td>A31</td>\n",
       "      <td>DIRECT</td>\n",
       "      <td>Large</td>\n",
       "      <td>Powder</td>\n",
       "      <td>[0.037, -0.0010000000000001, 0.0, -1.262878690...</td>\n",
       "      <td>True</td>\n",
       "    </tr>\n",
       "    <tr>\n",
       "      <th>74</th>\n",
       "      <td>NTM2</td>\n",
       "      <td>X2</td>\n",
       "      <td>A32</td>\n",
       "      <td>RETAIL</td>\n",
       "      <td>Small</td>\n",
       "      <td>Powder</td>\n",
       "      <td>[63.838, 63.839, 63.834, 4.14945855453652e-15,...</td>\n",
       "      <td>True</td>\n",
       "    </tr>\n",
       "    <tr>\n",
       "      <th>75</th>\n",
       "      <td>NTM2</td>\n",
       "      <td>X2</td>\n",
       "      <td>A44</td>\n",
       "      <td>RETAIL</td>\n",
       "      <td>Large</td>\n",
       "      <td>Powder</td>\n",
       "      <td>[8.036, 8.169, 54.716, 24.89, 79.157, 133.111,...</td>\n",
       "      <td>True</td>\n",
       "    </tr>\n",
       "    <tr>\n",
       "      <th>79</th>\n",
       "      <td>NTM3</td>\n",
       "      <td>X1</td>\n",
       "      <td>A13</td>\n",
       "      <td>DIRECT</td>\n",
       "      <td>Large</td>\n",
       "      <td>Powder</td>\n",
       "      <td>[28.591, 63.0, 28.591, 26.347, 14.783, 48.352,...</td>\n",
       "      <td>True</td>\n",
       "    </tr>\n",
       "    <tr>\n",
       "      <th>80</th>\n",
       "      <td>NTM3</td>\n",
       "      <td>X1</td>\n",
       "      <td>A14</td>\n",
       "      <td>DIRECT</td>\n",
       "      <td>Large</td>\n",
       "      <td>Liquid</td>\n",
       "      <td>[13.524, 72.559, 0.0, 33.766, 73.691, 0.0, 14....</td>\n",
       "      <td>True</td>\n",
       "    </tr>\n",
       "    <tr>\n",
       "      <th>81</th>\n",
       "      <td>NTM3</td>\n",
       "      <td>X1</td>\n",
       "      <td>A15</td>\n",
       "      <td>DIRECT</td>\n",
       "      <td>Large</td>\n",
       "      <td>Powder</td>\n",
       "      <td>[66.562, 71.358, 46.325, 9.754, 66.661, 52.21,...</td>\n",
       "      <td>True</td>\n",
       "    </tr>\n",
       "    <tr>\n",
       "      <th>84</th>\n",
       "      <td>NTM3</td>\n",
       "      <td>X1</td>\n",
       "      <td>A24</td>\n",
       "      <td>DIRECT</td>\n",
       "      <td>Small</td>\n",
       "      <td>Powder</td>\n",
       "      <td>[206.859, 0.0, 42.134, 42.134, 206.859, 124.78...</td>\n",
       "      <td>True</td>\n",
       "    </tr>\n",
       "    <tr>\n",
       "      <th>87</th>\n",
       "      <td>NTM3</td>\n",
       "      <td>X1</td>\n",
       "      <td>A28</td>\n",
       "      <td>DIRECT</td>\n",
       "      <td>Small</td>\n",
       "      <td>Powder</td>\n",
       "      <td>[14.33, 47.495, 2.557, 48.428, 0.6270000000000...</td>\n",
       "      <td>True</td>\n",
       "    </tr>\n",
       "    <tr>\n",
       "      <th>91</th>\n",
       "      <td>NTM3</td>\n",
       "      <td>X1</td>\n",
       "      <td>A44</td>\n",
       "      <td>DIRECT</td>\n",
       "      <td>Small</td>\n",
       "      <td>Liquid</td>\n",
       "      <td>[67.249, 62.432, 64.866, 63.538, 65.566, 66.93...</td>\n",
       "      <td>True</td>\n",
       "    </tr>\n",
       "  </tbody>\n",
       "</table>\n",
       "</div>"
      ],
      "text/plain": [
       "   ProductType Manufacturer Area Code Sourcing Channel Product Size  \\\n",
       "26        NTM1           X2       A31           DIRECT        Large   \n",
       "32        NTM1           X2       A44           DIRECT        Large   \n",
       "39        NTM2           X1       A16           DIRECT        Small   \n",
       "41        NTM2           X1       A19           DIRECT        Large   \n",
       "53        NTM2           X1       A32           RETAIL        Small   \n",
       "54        NTM2           X1       A36           DIRECT        Small   \n",
       "57        NTM2           X1       A38           DIRECT        Small   \n",
       "72        NTM2           X2       A25           DIRECT        Small   \n",
       "73        NTM2           X2       A31           DIRECT        Large   \n",
       "74        NTM2           X2       A32           RETAIL        Small   \n",
       "75        NTM2           X2       A44           RETAIL        Large   \n",
       "79        NTM3           X1       A13           DIRECT        Large   \n",
       "80        NTM3           X1       A14           DIRECT        Large   \n",
       "81        NTM3           X1       A15           DIRECT        Large   \n",
       "84        NTM3           X1       A24           DIRECT        Small   \n",
       "87        NTM3           X1       A28           DIRECT        Small   \n",
       "91        NTM3           X1       A44           DIRECT        Small   \n",
       "\n",
       "   Product Type                                      Sourcing Cost  \\\n",
       "26       Liquid  [0.0, -0.0010000000000116, -0.0009999999999994...   \n",
       "32       Liquid  [29.257, 0.0, 21.559, 11.649, 133.122, 10.016,...   \n",
       "39       Powder  [224.175, 98.37, 96.161, 97.089, 96.839, 104.1...   \n",
       "41       Powder  [105.589, 109.492, 105.589, 179.003, 108.599, ...   \n",
       "53       Powder  [127.68, 64.761, 65.405, -3.0253577421035504e-...   \n",
       "54       Powder  [186.62, 162.278, 186.62, 186.62, 186.62, 186....   \n",
       "57       Powder  [169.231, 200.0, 200.0, 200.0, 201.49, 201.491...   \n",
       "72       Powder  [6.773, 6.773, 64.324, 7.683, 64.33, 128.709, ...   \n",
       "73       Powder  [0.037, -0.0010000000000001, 0.0, -1.262878690...   \n",
       "74       Powder  [63.838, 63.839, 63.834, 4.14945855453652e-15,...   \n",
       "75       Powder  [8.036, 8.169, 54.716, 24.89, 79.157, 133.111,...   \n",
       "79       Powder  [28.591, 63.0, 28.591, 26.347, 14.783, 48.352,...   \n",
       "80       Liquid  [13.524, 72.559, 0.0, 33.766, 73.691, 0.0, 14....   \n",
       "81       Powder  [66.562, 71.358, 46.325, 9.754, 66.661, 52.21,...   \n",
       "84       Powder  [206.859, 0.0, 42.134, 42.134, 206.859, 124.78...   \n",
       "87       Powder  [14.33, 47.495, 2.557, 48.428, 0.6270000000000...   \n",
       "91       Liquid  [67.249, 62.432, 64.866, 63.538, 65.566, 66.93...   \n",
       "\n",
       "    Has Negative Cost  \n",
       "26               True  \n",
       "32               True  \n",
       "39               True  \n",
       "41               True  \n",
       "53               True  \n",
       "54               True  \n",
       "57               True  \n",
       "72               True  \n",
       "73               True  \n",
       "74               True  \n",
       "75               True  \n",
       "79               True  \n",
       "80               True  \n",
       "81               True  \n",
       "84               True  \n",
       "87               True  \n",
       "91               True  "
      ]
     },
     "execution_count": 21,
     "metadata": {},
     "output_type": "execute_result"
    }
   ],
   "source": [
    "grouped_df = train_df.groupby(['ProductType', 'Manufacturer', 'Area Code', 'Sourcing Channel', 'Product Size', 'Product Type']).agg({'Sourcing Cost': list}).reset_index()\n",
    "grouped_df['Has Negative Cost'] = grouped_df['Sourcing Cost'].apply(lambda x: any(cost < 0 for cost in x))\n",
    "combinations_with_negative_cost = grouped_df[grouped_df['Has Negative Cost']]\n",
    "combinations_with_negative_cost.head(17)\n",
    "\n"
   ]
  },
  {
   "cell_type": "code",
   "execution_count": 22,
   "metadata": {},
   "outputs": [
    {
     "data": {
      "text/html": [
       "<div>\n",
       "<style scoped>\n",
       "    .dataframe tbody tr th:only-of-type {\n",
       "        vertical-align: middle;\n",
       "    }\n",
       "\n",
       "    .dataframe tbody tr th {\n",
       "        vertical-align: top;\n",
       "    }\n",
       "\n",
       "    .dataframe thead th {\n",
       "        text-align: right;\n",
       "    }\n",
       "</style>\n",
       "<table border=\"1\" class=\"dataframe\">\n",
       "  <thead>\n",
       "    <tr style=\"text-align: right;\">\n",
       "      <th></th>\n",
       "      <th>Total Sourcing Cost Entries</th>\n",
       "      <th>Negative Sourcing Cost Entries</th>\n",
       "    </tr>\n",
       "  </thead>\n",
       "  <tbody>\n",
       "    <tr>\n",
       "      <th>26</th>\n",
       "      <td>1479</td>\n",
       "      <td>320</td>\n",
       "    </tr>\n",
       "    <tr>\n",
       "      <th>32</th>\n",
       "      <td>2054</td>\n",
       "      <td>70</td>\n",
       "    </tr>\n",
       "    <tr>\n",
       "      <th>39</th>\n",
       "      <td>15938</td>\n",
       "      <td>98</td>\n",
       "    </tr>\n",
       "    <tr>\n",
       "      <th>41</th>\n",
       "      <td>3839</td>\n",
       "      <td>41</td>\n",
       "    </tr>\n",
       "    <tr>\n",
       "      <th>53</th>\n",
       "      <td>143</td>\n",
       "      <td>1</td>\n",
       "    </tr>\n",
       "    <tr>\n",
       "      <th>54</th>\n",
       "      <td>4843</td>\n",
       "      <td>1</td>\n",
       "    </tr>\n",
       "    <tr>\n",
       "      <th>57</th>\n",
       "      <td>2684</td>\n",
       "      <td>3</td>\n",
       "    </tr>\n",
       "    <tr>\n",
       "      <th>72</th>\n",
       "      <td>3785</td>\n",
       "      <td>12</td>\n",
       "    </tr>\n",
       "    <tr>\n",
       "      <th>73</th>\n",
       "      <td>16900</td>\n",
       "      <td>470</td>\n",
       "    </tr>\n",
       "    <tr>\n",
       "      <th>74</th>\n",
       "      <td>5147</td>\n",
       "      <td>153</td>\n",
       "    </tr>\n",
       "    <tr>\n",
       "      <th>75</th>\n",
       "      <td>13780</td>\n",
       "      <td>176</td>\n",
       "    </tr>\n",
       "    <tr>\n",
       "      <th>79</th>\n",
       "      <td>7548</td>\n",
       "      <td>2</td>\n",
       "    </tr>\n",
       "    <tr>\n",
       "      <th>80</th>\n",
       "      <td>9424</td>\n",
       "      <td>734</td>\n",
       "    </tr>\n",
       "    <tr>\n",
       "      <th>81</th>\n",
       "      <td>5496</td>\n",
       "      <td>3</td>\n",
       "    </tr>\n",
       "    <tr>\n",
       "      <th>84</th>\n",
       "      <td>10725</td>\n",
       "      <td>130</td>\n",
       "    </tr>\n",
       "    <tr>\n",
       "      <th>87</th>\n",
       "      <td>15537</td>\n",
       "      <td>3</td>\n",
       "    </tr>\n",
       "    <tr>\n",
       "      <th>91</th>\n",
       "      <td>10656</td>\n",
       "      <td>14</td>\n",
       "    </tr>\n",
       "  </tbody>\n",
       "</table>\n",
       "</div>"
      ],
      "text/plain": [
       "    Total Sourcing Cost Entries  Negative Sourcing Cost Entries\n",
       "26                         1479                             320\n",
       "32                         2054                              70\n",
       "39                        15938                              98\n",
       "41                         3839                              41\n",
       "53                          143                               1\n",
       "54                         4843                               1\n",
       "57                         2684                               3\n",
       "72                         3785                              12\n",
       "73                        16900                             470\n",
       "74                         5147                             153\n",
       "75                        13780                             176\n",
       "79                         7548                               2\n",
       "80                         9424                             734\n",
       "81                         5496                               3\n",
       "84                        10725                             130\n",
       "87                        15537                               3\n",
       "91                        10656                              14"
      ]
     },
     "execution_count": 22,
     "metadata": {},
     "output_type": "execute_result"
    }
   ],
   "source": [
    "negative_combinations_cost_stats = pd.DataFrame(columns=['Total Sourcing Cost Entries', 'Negative Sourcing Cost Entries'])\n",
    "for idx, row in combinations_with_negative_cost.iterrows():\n",
    "    total_entries = len(row['Sourcing Cost'])\n",
    "    negative_entries = len([cost for cost in row['Sourcing Cost'] if cost < 0])\n",
    "    negative_combinations_cost_stats.loc[idx] = [total_entries, negative_entries]\n",
    "negative_combinations_cost_stats.head(17)"
   ]
  },
  {
   "attachments": {},
   "cell_type": "markdown",
   "metadata": {},
   "source": [
    "We look at some of the distributions of the Sourcing Cost for 5 these combinations."
   ]
  },
  {
   "cell_type": "code",
   "execution_count": 23,
   "metadata": {},
   "outputs": [
    {
     "data": {
      "image/png": "[encoded data removed]",
      "text/plain": [
       "<Figure size 800x600 with 1 Axes>"
      ]
     },
     "metadata": {},
     "output_type": "display_data"
    },
    {
     "data": {
      "image/png": "[encoded data removed]",
      "text/plain": [
       "<Figure size 800x600 with 1 Axes>"
      ]
     },
     "metadata": {},
     "output_type": "display_data"
    },
    {
     "data": {
      "image/png": "[encoded data removed]",
      "text/plain": [
       "<Figure size 800x600 with 1 Axes>"
      ]
     },
     "metadata": {},
     "output_type": "display_data"
    },
    {
     "data": {
      "image/png": "[encoded data removed]",
      "text/plain": [
       "<Figure size 800x600 with 1 Axes>"
      ]
     },
     "metadata": {},
     "output_type": "display_data"
    },
    {
     "data": {
      "image/png": "[encoded data removed]",
      "text/plain": [
       "<Figure size 800x600 with 1 Axes>"
      ]
     },
     "metadata": {},
     "output_type": "display_data"
    }
   ],
   "source": [
    "# Assuming 'Sourcing Cost' is the column containing lists of sourcing costs\n",
    "sns.set(style=\"whitegrid\")\n",
    "\n",
    "# Choose some combinations to plot (adjust as needed)\n",
    "combinations_to_plot = combinations_with_negative_cost.head(5)\n",
    "\n",
    "# Plot Sourcing Cost distributions for each combination\n",
    "for index, row in combinations_to_plot.iterrows():\n",
    "    plt.figure(figsize=(8, 6))\n",
    "    plt.hist(row['Sourcing Cost'], bins=20, alpha=0.5)\n",
    "    plt.title(f'Sourcing Cost Distribution - Combination {index}')\n",
    "    plt.xlabel('Sourcing Cost')\n",
    "    plt.ylabel('Frequency')\n",
    "    plt.show()"
   ]
  },
  {
   "attachments": {},
   "cell_type": "markdown",
   "metadata": {},
   "source": [
    "We observe that:\n",
    "- There's no discernible pattern in the distribution of the Sourcing Cost for these combinations\n",
    "- Since throwing away rose that have negative sourcing cost would meaning losing a lot of data, we decide to keep them but impute them with the mean of the First 6 Columns Unique Combination Sourcing Cost\n",
    "- A better idea would be to use domain knowledge of the dataset to impute these values"
   ]
  },
  {
   "attachments": {},
   "cell_type": "markdown",
   "metadata": {},
   "source": [
    "### Impute Negative Values with Mean of the First 6 Columns Combination for Train Sourcing Cost"
   ]
  },
  {
   "cell_type": "code",
   "execution_count": 24,
   "metadata": {},
   "outputs": [
    {
     "name": "stdout",
     "output_type": "stream",
     "text": [
      "{('NTM1', 'X2', 'A31', 'DIRECT', 'Large', 'Liquid'): 29.899209663502997, ('NTM1', 'X2', 'A44', 'DIRECT', 'Large', 'Liquid'): 32.56112449596777, ('NTM2', 'X1', 'A16', 'DIRECT', 'Small', 'Powder'): 111.80889103535205, ('NTM2', 'X1', 'A19', 'DIRECT', 'Large', 'Powder'): 109.4181561348073, ('NTM2', 'X1', 'A32', 'RETAIL', 'Small', 'Powder'): 43.3030492957747, ('NTM2', 'X1', 'A36', 'DIRECT', 'Small', 'Powder'): 181.85987567120634, ('NTM2', 'X1', 'A38', 'DIRECT', 'Small', 'Powder'): 211.0623606863093, ('NTM2', 'X2', 'A25', 'DIRECT', 'Small', 'Powder'): 73.76873257354868, ('NTM2', 'X2', 'A31', 'DIRECT', 'Large', 'Powder'): 64.77152574558897, ('NTM2', 'X2', 'A32', 'RETAIL', 'Small', 'Powder'): 38.03888846615988, ('NTM2', 'X2', 'A44', 'RETAIL', 'Large', 'Powder'): 49.926624963247015, ('NTM3', 'X1', 'A13', 'DIRECT', 'Large', 'Powder'): 36.02528743705285, ('NTM3', 'X1', 'A14', 'DIRECT', 'Large', 'Liquid'): 17.503016225546535, ('NTM3', 'X1', 'A15', 'DIRECT', 'Large', 'Powder'): 39.91615310394972, ('NTM3', 'X1', 'A24', 'DIRECT', 'Small', 'Powder'): 62.148011703632804, ('NTM3', 'X1', 'A28', 'DIRECT', 'Small', 'Powder'): 28.742166409165428, ('NTM3', 'X1', 'A44', 'DIRECT', 'Small', 'Liquid'): 66.95901766585175}\n"
     ]
    }
   ],
   "source": [
    "imputed_sourcing_cost_dict = {}\n",
    "for index, row in combinations_with_negative_cost.iterrows():\n",
    "    combination_key = tuple(row[['ProductType', 'Manufacturer', 'Area Code', 'Sourcing Channel', 'Product Size', 'Product Type']])\n",
    "    sourcing_cost_values = [value for value in row['Sourcing Cost'] if value >= 0]\n",
    "    imputed_cost = sum(sourcing_cost_values) / len(sourcing_cost_values) if sourcing_cost_values else 0\n",
    "    imputed_sourcing_cost_dict[combination_key] = imputed_cost\n",
    "print(imputed_sourcing_cost_dict)"
   ]
  },
  {
   "cell_type": "code",
   "execution_count": 25,
   "metadata": {},
   "outputs": [],
   "source": [
    "for index, row in train_df.iterrows():\n",
    "    combination_key = tuple(row[['ProductType', 'Manufacturer', 'Area Code', 'Sourcing Channel', 'Product Size', 'Product Type']])\n",
    "    if row['Sourcing Cost'] < 0:\n",
    "        train_df.loc[index, 'Sourcing Cost'] = imputed_sourcing_cost_dict[combination_key]"
   ]
  },
  {
   "cell_type": "code",
   "execution_count": 26,
   "metadata": {},
   "outputs": [
    {
     "name": "stdout",
     "output_type": "stream",
     "text": [
      "0\n"
     ]
    }
   ],
   "source": [
    "print(len(train_df[train_df['Sourcing Cost'] < 0]))\n",
    "summary_stats = train_df['Sourcing Cost'].describe()"
   ]
  },
  {
   "attachments": {},
   "cell_type": "markdown",
   "metadata": {},
   "source": [
    "## Feature Engineering"
   ]
  },
  {
   "attachments": {},
   "cell_type": "markdown",
   "metadata": {},
   "source": [
    "We do the following steps for feature engineering:\n",
    "- "
   ]
  },
  {
   "attachments": {},
   "cell_type": "markdown",
   "metadata": {},
   "source": [
    "We complete the following steps for feature engineering:\n",
    "- We create separate columns for day, month and year from the Month of Sourcing column for both the training and test sets\n",
    "- We label encode the categorical columns for both the training and test sets\n",
    "- We choose the following columns as features for our model:\n",
    "    - `ProductType`\n",
    "    - `Manufacturer`\n",
    "    - `Area Code`\n",
    "    - `Sourcing Channel`\n",
    "    - `Product Size`\n",
    "    - `Product Type`\n",
    "    - `Sourcing Month`\n",
    "    - `Source Day`\n",
    "    - `Source Year`\n",
    "- We choose the following column as the target for our model:\n",
    "    - `Sourcing Cost`\n",
    "- We use LabelEncoder from sklearn to label encode the categorical columns\n",
    "- We sort the rows in the training dataset by the Year, Month and Date\n",
    "- We split the training dataset into training and validation sets using time series splitting\n",
    "- We use the metric mean squared error to evaluate our model"
   ]
  },
  {
   "cell_type": "code",
   "execution_count": 27,
   "metadata": {},
   "outputs": [],
   "source": [
    "# Note that sourcing month, day and year are already extracted for the training dataset\n",
    "# We drop the Month of Sourcing column from the training dataset\n",
    "\n",
    "train_df.drop('Month of Sourcing', axis=1, inplace=True)\n",
    "test_df['Month of Sourcing'] = pd.to_datetime(test_df['Month of Sourcing'])\n",
    "test_df['Sourcing Month'] = test_df['Month of Sourcing'].dt.month\n",
    "test_df['Sourcing Day'] = test_df['Month of Sourcing'].dt.day\n",
    "test_df['Sourcing Year'] = test_df['Month of Sourcing'].dt.year\n",
    "test_df.drop('Month of Sourcing', axis=1, inplace=True)"
   ]
  },
  {
   "cell_type": "code",
   "execution_count": 28,
   "metadata": {},
   "outputs": [],
   "source": [
    "full_df = pd.concat([train_df, test_df])"
   ]
  },
  {
   "cell_type": "code",
   "execution_count": 29,
   "metadata": {},
   "outputs": [],
   "source": [
    "# Label Encode the categorical columns\n",
    "\n",
    "from sklearn.preprocessing import LabelEncoder\n",
    "\n",
    "label_encoder = LabelEncoder()\n",
    "\n",
    "full_df['ProductType'] = label_encoder.fit_transform(full_df['ProductType'])\n",
    "full_df['Manufacturer'] = label_encoder.fit_transform(full_df['Manufacturer'])\n",
    "full_df['Area Code'] = label_encoder.fit_transform(full_df['Area Code'])\n",
    "full_df['Sourcing Channel'] = label_encoder.fit_transform(full_df['Sourcing Channel'])\n",
    "full_df['Product Size'] = label_encoder.fit_transform(full_df['Product Size'])\n",
    "full_df['Product Type'] = label_encoder.fit_transform(full_df['Product Type'])\n",
    "\n",
    "\n",
    "train_df = full_df.iloc[:len(train_df)]\n",
    "test_df = full_df.iloc[len(test_df):]"
   ]
  },
  {
   "cell_type": "code",
   "execution_count": 30,
   "metadata": {},
   "outputs": [],
   "source": [
    "# Sort the training dataset by Sourcing Year, Sourcing Month and Sourcing Day\n",
    "train_df = train_df.sort_values(by=['Sourcing Year', 'Sourcing Month', 'Sourcing Day'])"
   ]
  },
  {
   "cell_type": "code",
   "execution_count": 31,
   "metadata": {},
   "outputs": [],
   "source": [
    "# Define features and target variable for training set and test set\n",
    "X = train_df.drop('Sourcing Cost', axis=1)\n",
    "y = train_df['Sourcing Cost']\n",
    "\n",
    "X_test = test_df.drop('Sourcing Cost', axis=1)\n",
    "y_test = test_df['Sourcing Cost']\n"
   ]
  },
  {
   "cell_type": "code",
   "execution_count": 32,
   "metadata": {},
   "outputs": [],
   "source": [
    "# Choose Time Series Split\n",
    "\n",
    "from sklearn.model_selection import TimeSeriesSplit\n",
    "\n",
    "tscv = TimeSeriesSplit(n_splits=5)"
   ]
  },
  {
   "cell_type": "code",
   "execution_count": 33,
   "metadata": {},
   "outputs": [],
   "source": [
    "# Choose Metric \n",
    "\n",
    "from sklearn.metrics import mean_squared_error"
   ]
  },
  {
   "cell_type": "code",
   "execution_count": 34,
   "metadata": {},
   "outputs": [
    {
     "name": "stdout",
     "output_type": "stream",
     "text": [
      "MSE for validation set: 32097.83493757294\n",
      "MSE for validation set: 7458.715921592887\n",
      "MSE for validation set: 5741.198708669268\n",
      "MSE for validation set: 7803.039715488434\n",
      "MSE for validation set: 4928.033053525736\n",
      "Mean MSE: 11605.764467369854\n",
      "Test MSE: 8071.475667512645\n"
     ]
    }
   ],
   "source": [
    "# Model Gradient Boosting Regressor\n",
    "from sklearn.ensemble import GradientBoostingRegressor\n",
    "\n",
    "gbr_model = GradientBoostingRegressor(n_estimators=120, max_depth=5, learning_rate=0.05, random_state=42)\n",
    "gbr_mse_scores = []\n",
    "\n",
    "for train_index, val_index in tscv.split(X):\n",
    "    X_train, X_val = X.iloc[train_index], X.iloc[val_index]\n",
    "    y_train, y_val = y.iloc[train_index], y.iloc[val_index]\n",
    "    gbr_model.fit(X_train, y_train)\n",
    "    y_pred = gbr_model.predict(X_val)\n",
    "    mae = mean_squared_error(y_val, y_pred)\n",
    "    print(f\"MSE for validation set: {mae}\")\n",
    "    gbr_mse_scores.append(mae)\n",
    "\n",
    "print(\"Mean MSE:\", sum(gbr_mse_scores) / len(gbr_mse_scores))\n",
    "gbr_model.fit(X, y)\n",
    "test_gbr_predicitions = gbr_model.predict(X_test)\n",
    "test_gbr_mse = mean_squared_error(y_test, test_gbr_predicitions)\n",
    "print(f\"Test MSE: {test_gbr_mse}\")"
   ]
  },
  {
   "cell_type": "code",
   "execution_count": 35,
   "metadata": {},
   "outputs": [
    {
     "name": "stdout",
     "output_type": "stream",
     "text": [
      "MSE for validation set: 30088.724046670075\n",
      "MSE for validation set: 4986.111990876618\n",
      "MSE for validation set: 5911.976521530689\n",
      "MSE for validation set: 7526.961779618522\n",
      "MSE for validation set: 17504.345526306795\n",
      "Mean MSE: 13203.623973000538\n",
      "Test MSE: 7617.948283549891\n"
     ]
    }
   ],
   "source": [
    "# Model XGBoost\n",
    "import xgboost as xgb\n",
    "\n",
    "xgb_model = xgb.XGBRegressor(n_estimators=105, learning_rate=0.05, max_depth=6, random_state=42)\n",
    "xgb_mse_scores = []\n",
    "\n",
    "# Perform time-series cross-validation\n",
    "for train_index, val_index in tscv.split(X):\n",
    "    X_train, X_val = X.iloc[train_index], X.iloc[val_index]\n",
    "    y_train, y_val = y.iloc[train_index], y.iloc[val_index]\n",
    "    xgb_model.fit(X_train, y_train)\n",
    "    y_pred = xgb_model.predict(X_val)\n",
    "    mae = mean_squared_error(y_val, y_pred)\n",
    "    print(f\"MSE for validation set: {mae}\")\n",
    "    xgb_mse_scores.append(mae)\n",
    "\n",
    "print(\"Mean MSE:\", sum(xgb_mse_scores) / len(xgb_mse_scores))\n",
    "xgb_model.fit(X, y)\n",
    "test_xgb_predicitions = xgb_model.predict(X_test)\n",
    "test_xgb_mse = mean_squared_error(y_test, test_xgb_predicitions)\n",
    "print(f\"Test MSE: {test_xgb_mse}\")"
   ]
  },
  {
   "cell_type": "code",
   "execution_count": 36,
   "metadata": {},
   "outputs": [
    {
     "name": "stdout",
     "output_type": "stream",
     "text": [
      "[LightGBM] [Warning] Accuracy may be bad since you didn't explicitly set num_leaves OR 2^max_depth > num_leaves. (num_leaves=31).\n",
      "[LightGBM] [Warning] Found whitespace in feature_names, replace with underlines\n",
      "[LightGBM] [Warning] Accuracy may be bad since you didn't explicitly set num_leaves OR 2^max_depth > num_leaves. (num_leaves=31).\n",
      "[LightGBM] [Info] Auto-choosing row-wise multi-threading, the overhead of testing was 0.001824 seconds.\n",
      "You can set `force_row_wise=true` to remove the overhead.\n",
      "And if memory is not enough, you can set `force_col_wise=true`.\n",
      "[LightGBM] [Info] Total Bins 62\n",
      "[LightGBM] [Info] Number of data points in the train set: 91696, number of used features: 7\n",
      "[LightGBM] [Info] Start training from score 101.856553\n",
      "[LightGBM] [Warning] Accuracy may be bad since you didn't explicitly set num_leaves OR 2^max_depth > num_leaves. (num_leaves=31).\n",
      "MSE for validation set: 29303.680024566867\n",
      "[LightGBM] [Warning] Accuracy may be bad since you didn't explicitly set num_leaves OR 2^max_depth > num_leaves. (num_leaves=31).\n",
      "[LightGBM] [Warning] Found whitespace in feature_names, replace with underlines\n",
      "[LightGBM] [Warning] Accuracy may be bad since you didn't explicitly set num_leaves OR 2^max_depth > num_leaves. (num_leaves=31).\n",
      "[LightGBM] [Info] Auto-choosing row-wise multi-threading, the overhead of testing was 0.002880 seconds.\n",
      "You can set `force_row_wise=true` to remove the overhead.\n",
      "And if memory is not enough, you can set `force_col_wise=true`.\n",
      "[LightGBM] [Info] Total Bins 65\n",
      "[LightGBM] [Info] Number of data points in the train set: 183392, number of used features: 7\n",
      "[LightGBM] [Info] Start training from score 100.538952\n",
      "[LightGBM] [Warning] Accuracy may be bad since you didn't explicitly set num_leaves OR 2^max_depth > num_leaves. (num_leaves=31).\n",
      "MSE for validation set: 4869.795551315772\n",
      "[LightGBM] [Warning] Accuracy may be bad since you didn't explicitly set num_leaves OR 2^max_depth > num_leaves. (num_leaves=31).\n",
      "[LightGBM] [Warning] Found whitespace in feature_names, replace with underlines\n",
      "[LightGBM] [Warning] Accuracy may be bad since you didn't explicitly set num_leaves OR 2^max_depth > num_leaves. (num_leaves=31).\n",
      "[LightGBM] [Info] Auto-choosing row-wise multi-threading, the overhead of testing was 0.004031 seconds.\n",
      "You can set `force_row_wise=true` to remove the overhead.\n",
      "And if memory is not enough, you can set `force_col_wise=true`.\n",
      "[LightGBM] [Info] Total Bins 67\n",
      "[LightGBM] [Info] Number of data points in the train set: 275088, number of used features: 7\n",
      "[LightGBM] [Info] Start training from score 103.203493\n",
      "[LightGBM] [Warning] Accuracy may be bad since you didn't explicitly set num_leaves OR 2^max_depth > num_leaves. (num_leaves=31).\n",
      "MSE for validation set: 5774.605077298894\n",
      "[LightGBM] [Warning] Accuracy may be bad since you didn't explicitly set num_leaves OR 2^max_depth > num_leaves. (num_leaves=31).\n",
      "[LightGBM] [Warning] Found whitespace in feature_names, replace with underlines\n",
      "[LightGBM] [Warning] Accuracy may be bad since you didn't explicitly set num_leaves OR 2^max_depth > num_leaves. (num_leaves=31).\n",
      "[LightGBM] [Info] Auto-choosing row-wise multi-threading, the overhead of testing was 0.005621 seconds.\n",
      "You can set `force_row_wise=true` to remove the overhead.\n",
      "And if memory is not enough, you can set `force_col_wise=true`.\n",
      "[LightGBM] [Info] Total Bins 72\n",
      "[LightGBM] [Info] Number of data points in the train set: 366784, number of used features: 8\n",
      "[LightGBM] [Info] Start training from score 106.188648\n",
      "[LightGBM] [Warning] Accuracy may be bad since you didn't explicitly set num_leaves OR 2^max_depth > num_leaves. (num_leaves=31).\n",
      "MSE for validation set: 7658.3314512817\n",
      "[LightGBM] [Warning] Accuracy may be bad since you didn't explicitly set num_leaves OR 2^max_depth > num_leaves. (num_leaves=31).\n",
      "[LightGBM] [Warning] Found whitespace in feature_names, replace with underlines\n",
      "[LightGBM] [Warning] Accuracy may be bad since you didn't explicitly set num_leaves OR 2^max_depth > num_leaves. (num_leaves=31).\n",
      "[LightGBM] [Info] Auto-choosing row-wise multi-threading, the overhead of testing was 0.007418 seconds.\n",
      "You can set `force_row_wise=true` to remove the overhead.\n",
      "And if memory is not enough, you can set `force_col_wise=true`.\n",
      "[LightGBM] [Info] Total Bins 74\n",
      "[LightGBM] [Info] Number of data points in the train set: 458480, number of used features: 8\n",
      "[LightGBM] [Info] Start training from score 108.828992\n",
      "[LightGBM] [Warning] Accuracy may be bad since you didn't explicitly set num_leaves OR 2^max_depth > num_leaves. (num_leaves=31).\n",
      "MSE for validation set: 4652.274235071447\n",
      "Mean MSE: 10451.737267906936\n",
      "[LightGBM] [Warning] Accuracy may be bad since you didn't explicitly set num_leaves OR 2^max_depth > num_leaves. (num_leaves=31).\n",
      "[LightGBM] [Warning] Found whitespace in feature_names, replace with underlines\n",
      "[LightGBM] [Warning] Accuracy may be bad since you didn't explicitly set num_leaves OR 2^max_depth > num_leaves. (num_leaves=31).\n",
      "[LightGBM] [Info] Auto-choosing row-wise multi-threading, the overhead of testing was 0.011869 seconds.\n",
      "You can set `force_row_wise=true` to remove the overhead.\n",
      "And if memory is not enough, you can set `force_col_wise=true`.\n",
      "[LightGBM] [Info] Total Bins 75\n",
      "[LightGBM] [Info] Number of data points in the train set: 550176, number of used features: 8\n",
      "[LightGBM] [Info] Start training from score 109.001561\n",
      "[LightGBM] [Warning] Accuracy may be bad since you didn't explicitly set num_leaves OR 2^max_depth > num_leaves. (num_leaves=31).\n",
      "Test MSE: 7963.894618684886\n"
     ]
    }
   ],
   "source": [
    "# Model LightGBM\n",
    "import lightgbm as lgb\n",
    "\n",
    "lgb_model = lgb.LGBMRegressor(n_estimators=105, num_leaves=31, learning_rate=0.025, max_depth=6, random_state=42)\n",
    "lgb_mse_scores = []\n",
    "\n",
    "# Perform time-series cross-validation\n",
    "for train_index, val_index in tscv.split(X):\n",
    "    X_train, X_val = X.iloc[train_index], X.iloc[val_index]\n",
    "    y_train, y_val = y.iloc[train_index], y.iloc[val_index]\n",
    "    lgb_model.fit(X_train, y_train)\n",
    "    y_pred = lgb_model.predict(X_val)\n",
    "    mae = mean_squared_error(y_val, y_pred)\n",
    "    print(f\"MSE for validation set: {mae}\")\n",
    "    lgb_mse_scores.append(mae)\n",
    "\n",
    "print(\"Mean MSE:\", sum(lgb_mse_scores) / len(lgb_mse_scores))\n",
    "lgb_model.fit(X, y)\n",
    "test_lgb_predicitions = lgb_model.predict(X_test)\n",
    "test_lgb_mse = mean_squared_error(y_test, test_lgb_predicitions)\n",
    "print(f\"Test MSE: {test_lgb_mse}\")"
   ]
  },
  {
   "cell_type": "code",
   "execution_count": 37,
   "metadata": {},
   "outputs": [
    {
     "name": "stdout",
     "output_type": "stream",
     "text": [
      "Mean MSE: 10451.737267906936\n",
      "Test MSE: 7963.894618684886\n"
     ]
    }
   ],
   "source": [
    "print(\"Mean MSE:\", sum(lgb_mse_scores) / len(lgb_mse_scores))\n",
    "print(f\"Test MSE: {test_lgb_mse}\")"
   ]
  },
  {
   "cell_type": "code",
   "execution_count": 38,
   "metadata": {},
   "outputs": [
    {
     "data": {
      "text/html": [
       "<div>\n",
       "<style scoped>\n",
       "    .dataframe tbody tr th:only-of-type {\n",
       "        vertical-align: middle;\n",
       "    }\n",
       "\n",
       "    .dataframe tbody tr th {\n",
       "        vertical-align: top;\n",
       "    }\n",
       "\n",
       "    .dataframe thead th {\n",
       "        text-align: right;\n",
       "    }\n",
       "</style>\n",
       "<table border=\"1\" class=\"dataframe\">\n",
       "  <thead>\n",
       "    <tr style=\"text-align: right;\">\n",
       "      <th></th>\n",
       "      <th>Model</th>\n",
       "      <th>Mean MSE Validation</th>\n",
       "      <th>Test MSE</th>\n",
       "    </tr>\n",
       "  </thead>\n",
       "  <tbody>\n",
       "    <tr>\n",
       "      <th>0</th>\n",
       "      <td>Gradient Boosting Regressor</td>\n",
       "      <td>11605.764467</td>\n",
       "      <td>8071.475668</td>\n",
       "    </tr>\n",
       "    <tr>\n",
       "      <th>1</th>\n",
       "      <td>XGBoost</td>\n",
       "      <td>13203.623973</td>\n",
       "      <td>7617.948284</td>\n",
       "    </tr>\n",
       "    <tr>\n",
       "      <th>2</th>\n",
       "      <td>LightGBM</td>\n",
       "      <td>10451.737268</td>\n",
       "      <td>7963.894619</td>\n",
       "    </tr>\n",
       "  </tbody>\n",
       "</table>\n",
       "</div>"
      ],
      "text/plain": [
       "                         Model  Mean MSE Validation     Test MSE\n",
       "0  Gradient Boosting Regressor         11605.764467  8071.475668\n",
       "1                      XGBoost         13203.623973  7617.948284\n",
       "2                     LightGBM         10451.737268  7963.894619"
      ]
     },
     "execution_count": 38,
     "metadata": {},
     "output_type": "execute_result"
    }
   ],
   "source": [
    "model_stats = pd.DataFrame(columns=['Model', 'Mean MSE Validation', 'Test MSE'])\n",
    "models = ['Gradient Boosting Regressor', 'XGBoost', 'LightGBM']\n",
    "mean_mse_model_stats = [sum(gbr_mse_scores) / len(gbr_mse_scores), sum(xgb_mse_scores) / len(xgb_mse_scores), sum(lgb_mse_scores) / len(lgb_mse_scores)]\n",
    "test_mse_model_stats = [test_gbr_mse, test_xgb_mse, test_lgb_mse]\n",
    "model_stats['Model'] = models\n",
    "model_stats['Mean MSE Validation'] = mean_mse_model_stats\n",
    "model_stats['Test MSE'] = test_mse_model_stats\n",
    "model_stats"
   ]
  }
 ],
 "metadata": {
  "kernelspec": {
   "display_name": "my_course",
   "language": "python",
   "name": "python3"
  },
  "language_info": {
   "codemirror_mode": {
    "name": "ipython",
    "version": 3
   },
   "file_extension": ".py",
   "mimetype": "text/x-python",
   "name": "python",
   "nbconvert_exporter": "python",
   "pygments_lexer": "ipython3",
   "version": "3.11.4"
  },
  "orig_nbformat": 4
 },
 "nbformat": 4,
 "nbformat_minor": 2
}
